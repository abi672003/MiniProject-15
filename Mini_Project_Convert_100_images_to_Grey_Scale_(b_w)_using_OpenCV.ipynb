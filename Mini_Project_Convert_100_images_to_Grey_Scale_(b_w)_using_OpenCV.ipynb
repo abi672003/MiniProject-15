{
  "nbformat": 4,
  "nbformat_minor": 0,
  "metadata": {
    "colab": {
      "provenance": [],
      "authorship_tag": "ABX9TyPxfVArfrAL9XalL4ETQ/l/",
      "include_colab_link": true
    },
    "kernelspec": {
      "name": "python3",
      "display_name": "Python 3"
    },
    "language_info": {
      "name": "python"
    }
  },
  "cells": [
    {
      "cell_type": "markdown",
      "metadata": {
        "id": "view-in-github",
        "colab_type": "text"
      },
      "source": [
        "<a href=\"https://colab.research.google.com/github/abi672003/MiniProject-15/blob/main/Mini_Project_Convert_100_images_to_Grey_Scale_(b_w)_using_OpenCV.ipynb\" target=\"_parent\"><img src=\"https://colab.research.google.com/assets/colab-badge.svg\" alt=\"Open In Colab\"/></a>"
      ]
    },
    {
      "cell_type": "code",
      "execution_count": null,
      "metadata": {
        "colab": {
          "base_uri": "https://localhost:8080/"
        },
        "id": "BevNq-dSo3Yp",
        "outputId": "35df6486-830b-475b-fd39-093b9a86ce7e"
      },
      "outputs": [
        {
          "output_type": "stream",
          "name": "stdout",
          "text": [
            "Requirement already satisfied: opencv-python in /usr/local/lib/python3.10/dist-packages (4.7.0.72)\n",
            "Requirement already satisfied: numpy>=1.21.2 in /usr/local/lib/python3.10/dist-packages (from opencv-python) (1.22.4)\n"
          ]
        }
      ],
      "source": [
        "pip install opencv-python"
      ]
    },
    {
      "cell_type": "code",
      "source": [
        "import cv2\n",
        "import os\n",
        "\n",
        "# Function to convert image to grayscale\n",
        "def convert_to_grayscale(image_path, output_path):\n",
        "    # Read the image\n",
        "    image = cv2.imread(image_path)\n",
        "\n",
        "    # Convert the image to grayscale\n",
        "    grayscale_image = cv2.cvtColor(image, cv2.COLOR_BGR2GRAY)\n",
        "\n",
        "    # Save the grayscale image\n",
        "    cv2.imwrite(output_path, grayscale_image)\n",
        "\n",
        "# Path to the directory containing the images\n",
        "image_directory = 'path/to/images/'\n",
        "\n",
        "# Path to the directory where you want to save the grayscale images\n",
        "output_directory = 'path/to/output/'\n",
        "\n",
        "# Get a list of all image files in the directory\n",
        "image_files = os.listdir(image_directory)\n",
        "\n",
        "# Loop through each image file\n",
        "for image_file in image_files:\n",
        "    # Create the full path for the input image\n",
        "    input_path = os.path.join(image_directory, image_file)\n",
        "\n",
        "    # Create the full path for the output image\n",
        "    output_path = os.path.join(output_directory, image_file)\n",
        "\n",
        "    # Convert the image to grayscale\n",
        "    convert_to_grayscale(input_path, output_path)\n"
      ],
      "metadata": {
        "id": "1JcOFfDgpAjY"
      },
      "execution_count": null,
      "outputs": []
    },
    {
      "cell_type": "code",
      "source": [],
      "metadata": {
        "id": "wgX5WgF0pApw"
      },
      "execution_count": null,
      "outputs": []
    }
  ]
}